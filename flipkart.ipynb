{
 "cells": [
  {
   "cell_type": "code",
   "execution_count": 11,
   "id": "fd2f357e",
   "metadata": {},
   "outputs": [],
   "source": [
    "import requests\n",
    "from bs4 import BeautifulSoup as bs\n",
    "from urllib.request import urlopen"
   ]
  },
  {
   "cell_type": "code",
   "execution_count": 12,
   "id": "f2c84341",
   "metadata": {},
   "outputs": [
    {
     "data": {
      "text/plain": [
       "'https://www.flipkart.com/search?q=iphone15'"
      ]
     },
     "execution_count": 12,
     "metadata": {},
     "output_type": "execute_result"
    }
   ],
   "source": [
    "flipkart_url = \"https://www.flipkart.com/search?q=\" + input(\"Enter the product name: \")\n",
    "flipkart_url"
   ]
  },
  {
   "cell_type": "code",
   "execution_count": 13,
   "id": "70b800f9",
   "metadata": {},
   "outputs": [
    {
     "data": {
      "text/plain": [
       "<http.client.HTTPResponse at 0x1a33a723af0>"
      ]
     },
     "execution_count": 13,
     "metadata": {},
     "output_type": "execute_result"
    }
   ],
   "source": [
    "url_client = urlopen(flipkart_url)\n",
    "url_client"
   ]
  },
  {
   "cell_type": "code",
   "execution_count": 14,
   "id": "6509945e",
   "metadata": {},
   "outputs": [],
   "source": [
    "flipkart_page = url_client.read()"
   ]
  },
  {
   "cell_type": "code",
   "execution_count": 15,
   "id": "4111f87c",
   "metadata": {},
   "outputs": [],
   "source": [
    "flipkart_html = bs(flipkart_page, \"html.parser\")\n"
   ]
  },
  {
   "cell_type": "code",
   "execution_count": 16,
   "id": "61178874",
   "metadata": {},
   "outputs": [],
   "source": [
    "main_div = flipkart_html.findAll(\"div\", {\"class\": \"cPHDOP col-12-12\"})"
   ]
  },
  {
   "cell_type": "code",
   "execution_count": 17,
   "id": "5336526f",
   "metadata": {},
   "outputs": [
    {
     "data": {
      "text/plain": [
       "<div class=\"cPHDOP col-12-12\"><div class=\"_75nlfW\"><div data-id=\"MOBGTAGPTB3VS24W\" style=\"width:100%\"><div class=\"tUxRFH\"><a class=\"CGtC98\" href=\"/apple-iphone-15-black-128-gb/p/itm6ac6485515ae4?pid=MOBGTAGPTB3VS24W&amp;lid=LSTMOBGTAGPTB3VS24WKFODHL&amp;marketplace=FLIPKART&amp;q=iphone15&amp;store=tyy%2F4io&amp;srno=s_1_2&amp;otracker=search&amp;fm=organic&amp;iid=69dbd7a3-aa5d-4735-b211-de249e814155.MOBGTAGPTB3VS24W.SEARCH&amp;ppt=None&amp;ppn=None&amp;ssid=dakz9q4xds0000001748495720981&amp;qH=1827ac0d826493c5\" rel=\"noopener noreferrer\" target=\"_blank\"><div class=\"Otbq5D\"><div class=\"yPq5Io\"><div><div class=\"_4WELSP\" style=\"height:200px;width:200px\"><img alt=\"Apple iPhone 15 (Black, 128 GB)\" class=\"DByuf4\" loading=\"eager\" src=\"https://rukminim2.flixcart.com/image/312/312/xif0q/mobile/h/d/9/-original-imagtc2qzgnnuhxh.jpeg?q=70\"/></div></div></div><div class=\"qaR90o\"><div class=\"A8uQAd\"><span class=\"Lni97G\"><label class=\"tJjCVx\"><input class=\"vn9L2C\" readonly=\"\" type=\"checkbox\"/><div class=\"XqNaEv\"></div></label></span><label class=\"uu79Xy\"><span>Add to Compare</span></label></div></div><div class=\"oUss6M ssUU08\"><div class=\"+7E521\"><svg class=\"N1bADF\" height=\"16\" viewbox=\"0 0 20 16\" width=\"16\" xmlns=\"http://www.w3.org/2000/svg\"><path class=\"x1UMqG\" d=\"M8.695 16.682C4.06 12.382 1 9.536 1 6.065 1 3.219 3.178 1 5.95 1c1.566 0 3.069.746 4.05 1.915C10.981 1.745 12.484 1 14.05 1 16.822 1 19 3.22 19 6.065c0 3.471-3.06 6.316-7.695 10.617L10 17.897l-1.305-1.215z\" fill=\"#2874F0\" fill-rule=\"evenodd\" opacity=\".9\" stroke=\"#FFF\"></path></svg></div></div></div><div class=\"yKfJKb row\"><div class=\"col col-7-12\"><div class=\"KzDlHZ\">Apple iPhone 15 (Black, 128 GB)</div><div class=\"_5OesEi\"><span class=\"Y1HWO0\" id=\"productRating_LSTMOBGTAGPTB3VS24WKFODHL_MOBGTAGPTB3VS24W_\"><div class=\"XQDdHH\">4.6<img class=\"Rza2QY\" src=\"data:image/svg+xml;base64,PHN2ZyB4bWxucz0iaHR0cDovL3d3dy53My5vcmcvMjAwMC9zdmciIHdpZHRoPSIxMyIgaGVpZ2h0PSIxMiI+PHBhdGggZmlsbD0iI0ZGRiIgZD0iTTYuNSA5LjQzOWwtMy42NzQgMi4yMy45NC00LjI2LTMuMjEtMi44ODMgNC4yNTQtLjQwNEw2LjUuMTEybDEuNjkgNC4wMSA0LjI1NC40MDQtMy4yMSAyLjg4Mi45NCA0LjI2eiIvPjwvc3ZnPg==\"/></div></span><span class=\"Wphh3N\"><span><span>2,57,736 Ratings </span><span class=\"hG7V+4\">&amp;</span><span> 9,296 Reviews</span></span></span></div><div class=\"_6NESgJ\"><ul class=\"G4BRas\"><li class=\"J+igdf\">128 GB ROM</li><li class=\"J+igdf\">15.49 cm (6.1 inch) Super Retina XDR Display</li><li class=\"J+igdf\">48MP + 12MP | 12MP Front Camera</li><li class=\"J+igdf\">A16 Bionic Chip, 6 Core Processor Processor</li><li class=\"J+igdf\">1 year warranty for phone and 1 year warranty for in Box Accessories.</li></ul></div></div><div class=\"col col-5-12 BfVC2z\"><div class=\"cN1yYO\"><div class=\"hl05eU\"><div class=\"Nx9bqj _4b5DiR\">₹64,400</div><div class=\"yRaY8j ZYYwLA\">₹<!-- -->69,900</div><div class=\"UkUFwK\"><span>7% off</span></div></div><div class=\"k6cAZE dlFt9U\"><div><div class=\"yiggsN\" style=\"color:#000000;font-size:12px;font-weight:400\">Free delivery</div></div></div></div><div class=\"_0CSTHy\"><img height=\"21\" src=\"//static-assets-web.flixcart.com/fk-p-linchpin-web/fk-cp-zion/img/fa_9e47c1.png\"/></div><div class=\"M4DNwV\"><div class=\"n5vj9c\"><div class=\"yiggsN O5Fpg8\" style=\"color:#000000;font-size:14px;font-style:normal;font-weight:400\">Upto </div><div class=\"yiggsN O5Fpg8\" style=\"color:#000000;font-size:14px;font-style:normal;font-weight:700\">₹44,150</div><div class=\"yiggsN O5Fpg8\" style=\"color:#000000;font-size:14px;font-style:normal;font-weight:400\"> Off on Exchange</div></div></div><div class=\"M4DNwV\"><div class=\"n5vj9c\"><div class=\"yiggsN O5Fpg8\" style=\"color:#26A541;font-size:14px;font-weight:700\">Bank Offer</div></div></div></div></div></a></div></div></div></div>"
      ]
     },
     "execution_count": 17,
     "metadata": {},
     "output_type": "execute_result"
    }
   ],
   "source": [
    "len(main_div)\n",
    "main_div[3]"
   ]
  },
  {
   "cell_type": "code",
   "execution_count": 18,
   "id": "456d2263",
   "metadata": {},
   "outputs": [
    {
     "data": {
      "text/plain": [
       "'/apple-iphone-15-black-128-gb/p/itm6ac6485515ae4?pid=MOBGTAGPTB3VS24W&lid=LSTMOBGTAGPTB3VS24WKFODHL&marketplace=FLIPKART&q=iphone15&store=tyy%2F4io&srno=s_1_2&otracker=search&fm=organic&iid=69dbd7a3-aa5d-4735-b211-de249e814155.MOBGTAGPTB3VS24W.SEARCH&ppt=None&ppn=None&ssid=dakz9q4xds0000001748495720981&qH=1827ac0d826493c5'"
      ]
     },
     "execution_count": 18,
     "metadata": {},
     "output_type": "execute_result"
    }
   ],
   "source": [
    "# main_div[1]\n",
    "main_div[3].div.div.div.a['href']"
   ]
  },
  {
   "cell_type": "code",
   "execution_count": 19,
   "id": "f6bfa239",
   "metadata": {},
   "outputs": [
    {
     "data": {
      "text/plain": [
       "'https://www.flipkart.com/apple-iphone-15-black-128-gb/p/itm6ac6485515ae4?pid=MOBGTAGPTB3VS24W&lid=LSTMOBGTAGPTB3VS24WKFODHL&marketplace=FLIPKART&q=iphone15&store=tyy%2F4io&srno=s_1_2&otracker=search&fm=organic&iid=69dbd7a3-aa5d-4735-b211-de249e814155.MOBGTAGPTB3VS24W.SEARCH&ppt=None&ppn=None&ssid=dakz9q4xds0000001748495720981&qH=1827ac0d826493c5'"
      ]
     },
     "execution_count": 19,
     "metadata": {},
     "output_type": "execute_result"
    }
   ],
   "source": [
    "\"https://www.flipkart.com\" + main_div[3].div.div.div.a['href']"
   ]
  },
  {
   "cell_type": "code",
   "execution_count": 20,
   "id": "89f52cfe",
   "metadata": {},
   "outputs": [],
   "source": [
    "del main_div[0:2]"
   ]
  },
  {
   "cell_type": "code",
   "execution_count": 21,
   "id": "c40cfc83",
   "metadata": {},
   "outputs": [],
   "source": [
    "# for i in main_div:\n",
    "#     print(\"https://www.flipkart.com\" + i.div.div.div.a['href'])"
   ]
  },
  {
   "cell_type": "code",
   "execution_count": 22,
   "id": "274f5255",
   "metadata": {},
   "outputs": [],
   "source": [
    "# for i in main_div:\n",
    "#     try:\n",
    "#         href = i.div.div.div.a['href']\n",
    "#         print(\"https://www.flipkart.com\" + href)\n",
    "#     except AttributeError:\n",
    "#         # Skip elements that do not have the expected structure\n",
    "#         continue"
   ]
  },
  {
   "cell_type": "code",
   "execution_count": 23,
   "id": "fb29e7eb",
   "metadata": {},
   "outputs": [],
   "source": [
    "product_link = \"https://www.flipkart.com\" + main_div[3].div.div.div.a['href']\n",
    "product_req = requests.get(product_link)"
   ]
  },
  {
   "cell_type": "code",
   "execution_count": 24,
   "id": "d6c4da55",
   "metadata": {},
   "outputs": [],
   "source": [
    "product_html = bs(product_req.text, \"html.parser\")"
   ]
  },
  {
   "cell_type": "code",
   "execution_count": 25,
   "id": "ae888f23",
   "metadata": {},
   "outputs": [
    {
     "data": {
      "text/plain": [
       "11"
      ]
     },
     "execution_count": 25,
     "metadata": {},
     "output_type": "execute_result"
    }
   ],
   "source": [
    "review_div = product_html.findAll(\"div\", {\"class\": \"RcXBOT\"})\n",
    "len(review_div)"
   ]
  },
  {
   "cell_type": "code",
   "execution_count": 26,
   "id": "151a8ab6",
   "metadata": {},
   "outputs": [
    {
     "data": {
      "text/plain": [
       "[<p class=\"_2NsDsF AwS1CA\">Arunji Govindaraju</p>]"
      ]
     },
     "execution_count": 26,
     "metadata": {},
     "output_type": "execute_result"
    }
   ],
   "source": [
    "review_div[0].findAll(\"p\", {\"class\": \"_2NsDsF AwS1CA\"})"
   ]
  },
  {
   "cell_type": "code",
   "execution_count": 36,
   "id": "aee3cc95",
   "metadata": {},
   "outputs": [
    {
     "data": {
      "text/plain": [
       "'Arunji Govindaraju'"
      ]
     },
     "execution_count": 36,
     "metadata": {},
     "output_type": "execute_result"
    }
   ],
   "source": [
    "review_div[0].findAll(\"p\", {\"class\": \"_2NsDsF AwS1CA\"})[0].text"
   ]
  },
  {
   "cell_type": "code",
   "execution_count": 28,
   "id": "788f744b",
   "metadata": {},
   "outputs": [
    {
     "name": "stdout",
     "output_type": "stream",
     "text": [
      "Arunji Govindaraju\n",
      "Rishabh  Jha\n",
      "bijaya mohanty\n",
      "Ajin V\n",
      "Mousam  Guha Roy\n",
      "Nikhil Kumar\n",
      "Rahul Shedge\n",
      "Prithivi Boruah\n",
      "Flipkart Customer\n",
      "Saurabh Gothwad\n"
     ]
    }
   ],
   "source": [
    "for i in review_div:\n",
    "    try:\n",
    "        print(i.div.div.findAll(\"p\", {\"class\": \"_2NsDsF AwS1CA\"})[0].text)\n",
    "    except AttributeError:\n",
    "        continue"
   ]
  },
  {
   "cell_type": "code",
   "execution_count": 29,
   "id": "ea6c3021",
   "metadata": {},
   "outputs": [
    {
     "data": {
      "text/plain": [
       "'5'"
      ]
     },
     "execution_count": 29,
     "metadata": {},
     "output_type": "execute_result"
    }
   ],
   "source": [
    "review_div[0].div.div.div.div.text"
   ]
  },
  {
   "cell_type": "code",
   "execution_count": 30,
   "id": "7a47f2ba",
   "metadata": {},
   "outputs": [
    {
     "name": "stdout",
     "output_type": "stream",
     "text": [
      "5\n",
      "5\n",
      "5\n",
      "5\n",
      "4\n",
      "5\n",
      "5\n",
      "5\n",
      "5\n",
      "5\n"
     ]
    }
   ],
   "source": [
    "for i in review_div:\n",
    "    try:\n",
    "        print(i.div.div.div.div.text)\n",
    "    except AttributeError:\n",
    "        continue"
   ]
  },
  {
   "cell_type": "code",
   "execution_count": 31,
   "id": "9393f3e3",
   "metadata": {},
   "outputs": [
    {
     "data": {
      "text/plain": [
       "'Excellent'"
      ]
     },
     "execution_count": 31,
     "metadata": {},
     "output_type": "execute_result"
    }
   ],
   "source": [
    "review_div[0].div.div.div.p.text"
   ]
  },
  {
   "cell_type": "code",
   "execution_count": 32,
   "id": "72369ffa",
   "metadata": {},
   "outputs": [
    {
     "name": "stdout",
     "output_type": "stream",
     "text": [
      "Excellent\n",
      "Just wow!\n",
      "Worth every penny\n",
      "Mind-blowing purchase\n",
      "Good choice\n",
      "Awesome\n",
      "Brilliant\n",
      "Just wow!\n",
      "Worth every penny\n",
      "Awesome\n"
     ]
    }
   ],
   "source": [
    "for i in review_div:\n",
    "    try:\n",
    "        print(i.div.div.div.p.text)\n",
    "    except AttributeError:\n",
    "        continue"
   ]
  },
  {
   "cell_type": "code",
   "execution_count": 33,
   "id": "9e03e374",
   "metadata": {},
   "outputs": [
    {
     "data": {
      "text/plain": [
       "'Awesome 🔥🔥☺️READ MORE'"
      ]
     },
     "execution_count": 33,
     "metadata": {},
     "output_type": "execute_result"
    }
   ],
   "source": [
    "review_div[1].div.div.find(\"div\", {\"class\": \"\"}).text"
   ]
  },
  {
   "cell_type": "code",
   "execution_count": 34,
   "id": "d5277b9d",
   "metadata": {},
   "outputs": [
    {
     "name": "stdout",
     "output_type": "stream",
     "text": [
      "Awesome product very happy to hold this. Better In hand feel,matte finish. Good camera, Brighter screen with Dynamic Island, USB-C, great battery life.60Hz display is a dealbreaker for some.Its not much noticeable.Thank u Flipkart for the best deal and quick delivery.READ MORE\n",
      "Awesome 🔥🔥☺️READ MORE\n",
      "Just go for it.Amazing one.Beautiful camera with super fast processorREAD MORE\n",
      "High quality camera😍READ MORE\n",
      "Very niceREAD MORE\n",
      "Switch from OnePlus to iPhone I am stunned with camera performance. Everything is perfect on  iPhone 15.READ MORE\n",
      "Totally happy!Camera 5Battery 5 Display 5Design 5READ MORE\n",
      "Camera Quality Is Improved Loving ItREAD MORE\n",
      "Awesome photography experience. Battery backup is good . Display is much better than 14 version.READ MORE\n",
      "Simply premium.READ MORE\n"
     ]
    }
   ],
   "source": [
    "for i in review_div:\n",
    "    try:\n",
    "        print(i.div.div.find(\"div\", {\"class\": \"\"}).text)\n",
    "    except AttributeError:\n",
    "        continue    "
   ]
  },
  {
   "cell_type": "code",
   "execution_count": 35,
   "id": "e57b7783",
   "metadata": {},
   "outputs": [
    {
     "data": {
      "text/html": [
       "<div>\n",
       "<style scoped>\n",
       "    .dataframe tbody tr th:only-of-type {\n",
       "        vertical-align: middle;\n",
       "    }\n",
       "\n",
       "    .dataframe tbody tr th {\n",
       "        vertical-align: top;\n",
       "    }\n",
       "\n",
       "    .dataframe thead th {\n",
       "        text-align: right;\n",
       "    }\n",
       "</style>\n",
       "<table border=\"1\" class=\"dataframe\">\n",
       "  <thead>\n",
       "    <tr style=\"text-align: right;\">\n",
       "      <th></th>\n",
       "      <th>Name</th>\n",
       "      <th>Rating</th>\n",
       "      <th>Review Heading</th>\n",
       "      <th>Review</th>\n",
       "    </tr>\n",
       "  </thead>\n",
       "  <tbody>\n",
       "    <tr>\n",
       "      <th>0</th>\n",
       "      <td>Arunji Govindaraju</td>\n",
       "      <td>5</td>\n",
       "      <td>Excellent</td>\n",
       "      <td>Awesome product very happy to hold this. Bette...</td>\n",
       "    </tr>\n",
       "    <tr>\n",
       "      <th>1</th>\n",
       "      <td>Rishabh  Jha</td>\n",
       "      <td>5</td>\n",
       "      <td>Just wow!</td>\n",
       "      <td>Awesome 🔥🔥☺️READ MORE</td>\n",
       "    </tr>\n",
       "    <tr>\n",
       "      <th>2</th>\n",
       "      <td>bijaya mohanty</td>\n",
       "      <td>5</td>\n",
       "      <td>Worth every penny</td>\n",
       "      <td>Just go for it.Amazing one.Beautiful camera wi...</td>\n",
       "    </tr>\n",
       "    <tr>\n",
       "      <th>3</th>\n",
       "      <td>Ajin V</td>\n",
       "      <td>5</td>\n",
       "      <td>Mind-blowing purchase</td>\n",
       "      <td>High quality camera😍READ MORE</td>\n",
       "    </tr>\n",
       "    <tr>\n",
       "      <th>4</th>\n",
       "      <td>Mousam  Guha Roy</td>\n",
       "      <td>4</td>\n",
       "      <td>Good choice</td>\n",
       "      <td>Very niceREAD MORE</td>\n",
       "    </tr>\n",
       "    <tr>\n",
       "      <th>5</th>\n",
       "      <td>Nikhil Kumar</td>\n",
       "      <td>5</td>\n",
       "      <td>Awesome</td>\n",
       "      <td>Switch from OnePlus to iPhone I am stunned wit...</td>\n",
       "    </tr>\n",
       "    <tr>\n",
       "      <th>6</th>\n",
       "      <td>Rahul Shedge</td>\n",
       "      <td>5</td>\n",
       "      <td>Brilliant</td>\n",
       "      <td>Totally happy!Camera 5Battery 5 Display 5Desig...</td>\n",
       "    </tr>\n",
       "    <tr>\n",
       "      <th>7</th>\n",
       "      <td>Prithivi Boruah</td>\n",
       "      <td>5</td>\n",
       "      <td>Just wow!</td>\n",
       "      <td>Camera Quality Is Improved Loving ItREAD MORE</td>\n",
       "    </tr>\n",
       "    <tr>\n",
       "      <th>8</th>\n",
       "      <td>Flipkart Customer</td>\n",
       "      <td>5</td>\n",
       "      <td>Worth every penny</td>\n",
       "      <td>Awesome photography experience. Battery backup...</td>\n",
       "    </tr>\n",
       "    <tr>\n",
       "      <th>9</th>\n",
       "      <td>Saurabh Gothwad</td>\n",
       "      <td>5</td>\n",
       "      <td>Awesome</td>\n",
       "      <td>Simply premium.READ MORE</td>\n",
       "    </tr>\n",
       "  </tbody>\n",
       "</table>\n",
       "</div>"
      ],
      "text/plain": [
       "                 Name  Rating         Review Heading  \\\n",
       "0  Arunji Govindaraju       5              Excellent   \n",
       "1        Rishabh  Jha       5              Just wow!   \n",
       "2      bijaya mohanty       5      Worth every penny   \n",
       "3              Ajin V       5  Mind-blowing purchase   \n",
       "4    Mousam  Guha Roy       4            Good choice   \n",
       "5        Nikhil Kumar       5                Awesome   \n",
       "6        Rahul Shedge       5              Brilliant   \n",
       "7     Prithivi Boruah       5              Just wow!   \n",
       "8   Flipkart Customer       5      Worth every penny   \n",
       "9     Saurabh Gothwad       5                Awesome   \n",
       "\n",
       "                                              Review  \n",
       "0  Awesome product very happy to hold this. Bette...  \n",
       "1                              Awesome 🔥🔥☺️READ MORE  \n",
       "2  Just go for it.Amazing one.Beautiful camera wi...  \n",
       "3                      High quality camera😍READ MORE  \n",
       "4                                 Very niceREAD MORE  \n",
       "5  Switch from OnePlus to iPhone I am stunned wit...  \n",
       "6  Totally happy!Camera 5Battery 5 Display 5Desig...  \n",
       "7      Camera Quality Is Improved Loving ItREAD MORE  \n",
       "8  Awesome photography experience. Battery backup...  \n",
       "9                           Simply premium.READ MORE  "
      ]
     },
     "execution_count": 35,
     "metadata": {},
     "output_type": "execute_result"
    }
   ],
   "source": [
    "import csv\n",
    "import pandas as pd\n",
    "\n",
    "\n",
    "with open('flipkart_reviews.csv', mode='w', newline='', encoding='utf-8') as file:\n",
    "    writer = csv.writer(file)\n",
    "    \n",
    "    writer.writerow(['Name', 'Rating', 'Review Heading', 'Review'])\n",
    "\n",
    "    for i in review_div:\n",
    "        try:\n",
    "            name = i.div.div.findAll(\"p\", {\"class\": \"_2NsDsF AwS1CA\"})[0].text  \n",
    "            rating = i.div.div.div.div.text  \n",
    "            review_heading = i.div.div.div.p.text\n",
    "            review = i.div.div.find(\"div\", {\"class\": \"\"}).text  \n",
    "\n",
    "            # Write the extracted data to the CSV file\n",
    "            writer.writerow([name, rating, review_heading, review])\n",
    "        except AttributeError:\n",
    "            \n",
    "            continue\n",
    "\n",
    "df_reviews = pd.read_csv('flipkart_reviews.csv')\n",
    "# print(df_reviews)\n",
    "df_reviews.head(10)"
   ]
  }
 ],
 "metadata": {
  "kernelspec": {
   "display_name": "base",
   "language": "python",
   "name": "python3"
  },
  "language_info": {
   "codemirror_mode": {
    "name": "ipython",
    "version": 3
   },
   "file_extension": ".py",
   "mimetype": "text/x-python",
   "name": "python",
   "nbconvert_exporter": "python",
   "pygments_lexer": "ipython3",
   "version": "3.12.3"
  }
 },
 "nbformat": 4,
 "nbformat_minor": 5
}
